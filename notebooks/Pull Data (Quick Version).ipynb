{
 "cells": [
  {
   "cell_type": "code",
   "execution_count": 1,
   "id": "300305bb",
   "metadata": {},
   "outputs": [],
   "source": [
    "from datetime import datetime\n",
    "from whoop_download import whoop_login"
   ]
  },
  {
   "cell_type": "code",
   "execution_count": 2,
   "id": "00f8360f",
   "metadata": {},
   "outputs": [
    {
     "name": "stdout",
     "output_type": "stream",
     "text": [
      "Authentication successful\n"
     ]
    }
   ],
   "source": [
    "client = whoop_login()\n",
    "client.get_authorization('whoop.ini')"
   ]
  },
  {
   "cell_type": "code",
   "execution_count": 3,
   "id": "40b8b9d9",
   "metadata": {},
   "outputs": [
    {
     "data": {
      "text/plain": [
       "'2022-06-22'"
      ]
     },
     "execution_count": 3,
     "metadata": {},
     "output_type": "execute_result"
    }
   ],
   "source": [
    "today = datetime.today().strftime(\"%Y-%m-%d\")\n",
    "today"
   ]
  },
  {
   "cell_type": "code",
   "execution_count": 4,
   "id": "a5e37963",
   "metadata": {},
   "outputs": [],
   "source": [
    "data = client.get_keydata_all()"
   ]
  },
  {
   "cell_type": "code",
   "execution_count": 5,
   "id": "e0293d3a",
   "metadata": {},
   "outputs": [],
   "source": [
    "data.to_csv(f\"../data/daily/daily-as-of-{today}.csv\", index=False)"
   ]
  },
  {
   "cell_type": "code",
   "execution_count": 6,
   "id": "40cde29a",
   "metadata": {},
   "outputs": [],
   "source": [
    "activities = client.get_activities_all()"
   ]
  },
  {
   "cell_type": "code",
   "execution_count": 7,
   "id": "d41f0a72",
   "metadata": {},
   "outputs": [],
   "source": [
    "activities.to_csv(f\"../data/activity/activity-as-of-{today}.csv\", index=False)"
   ]
  },
  {
   "cell_type": "code",
   "execution_count": 8,
   "id": "42cb7604",
   "metadata": {},
   "outputs": [],
   "source": [
    "sleep = client.get_sleep_all()"
   ]
  },
  {
   "cell_type": "code",
   "execution_count": 9,
   "id": "01a1ca33",
   "metadata": {},
   "outputs": [],
   "source": [
    "sleep.to_csv(f\"../data/sleep/sleep-as-of-{today}.csv\", index=False)"
   ]
  },
  {
   "cell_type": "code",
   "execution_count": 10,
   "id": "c6053d98",
   "metadata": {},
   "outputs": [],
   "source": [
    "sleep_events = client.get_sleep_events_all()"
   ]
  },
  {
   "cell_type": "code",
   "execution_count": 11,
   "id": "1e49b86a",
   "metadata": {},
   "outputs": [],
   "source": [
    "sleep_events.to_csv(f\"../data/sleep-events/sleep-events-as-of-{today}.csv\", index=False)"
   ]
  },
  {
   "cell_type": "code",
   "execution_count": null,
   "id": "044e2102",
   "metadata": {},
   "outputs": [],
   "source": [
    "#heart_rates = client.get_hr_all(df=True)\n",
    "#heart_rates = client.get_hr_timeframe(start='2022-06-08', end='2022-06-08', df=True)\n",
    "#heart_rates.to_csv(f\"../data/heart-rate/HR-2022-06-08.csv\", index=False) "
   ]
  },
  {
   "cell_type": "code",
   "execution_count": 12,
   "id": "58f1b089",
   "metadata": {},
   "outputs": [],
   "source": [
    "#heart_rates = client.get_hr_all(df=True)\n",
    "heart_rates = client.get_hr_timeframe(start='2022-06-09', df=True)\n",
    "heart_rates.to_csv(f\"../data/heart-rate/HR-2022-06-09_2022-06-22.csv\", index=False)"
   ]
  },
  {
   "cell_type": "code",
   "execution_count": null,
   "id": "e0f20ede",
   "metadata": {},
   "outputs": [],
   "source": []
  }
 ],
 "metadata": {
  "kernelspec": {
   "display_name": "Python 3 (ipykernel)",
   "language": "python",
   "name": "python3"
  },
  "language_info": {
   "codemirror_mode": {
    "name": "ipython",
    "version": 3
   },
   "file_extension": ".py",
   "mimetype": "text/x-python",
   "name": "python",
   "nbconvert_exporter": "python",
   "pygments_lexer": "ipython3",
   "version": "3.9.7"
  }
 },
 "nbformat": 4,
 "nbformat_minor": 5
}
